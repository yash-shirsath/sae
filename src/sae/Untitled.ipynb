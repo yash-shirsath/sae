{
 "cells": [
  {
   "cell_type": "code",
   "execution_count": 2,
   "id": "f2583130-a39f-471e-be01-9584cccd2ff1",
   "metadata": {},
   "outputs": [],
   "source": [
    "import gc\n",
    "import torch"
   ]
  },
  {
   "cell_type": "code",
   "execution_count": 4,
   "id": "86bb8e9d-6e75-406a-a3cf-46d80909e658",
   "metadata": {},
   "outputs": [
    {
     "name": "stdout",
     "output_type": "stream",
     "text": [
      "Total tensors on GPU: 0\n",
      "Total memory used: 0.00 MB\n"
     ]
    },
    {
     "name": "stderr",
     "output_type": "stream",
     "text": [
      "/tmp/ipykernel_5973/280091826.py:7: FutureWarning: `torch.distributed.reduce_op` is deprecated, please use `torch.distributed.ReduceOp` instead\n",
      "  if isinstance(obj, torch.Tensor) and obj.is_cuda:\n"
     ]
    }
   ],
   "source": [
    "import gc\n",
    "import torch\n",
    "\n",
    "def get_gpu_tensors():\n",
    "    gpu_tensors = []\n",
    "    for obj in gc.get_objects():\n",
    "        if isinstance(obj, torch.Tensor) and obj.is_cuda:\n",
    "            size_mb = obj.numel() * obj.element_size() / 1024 / 1024\n",
    "            gpu_tensors.append({\n",
    "                'size_mb': size_mb,\n",
    "                'shape': tuple(obj.shape),\n",
    "                'dtype': obj.dtype,\n",
    "                'device': obj.device\n",
    "            })\n",
    "    \n",
    "    # Sort by size\n",
    "    gpu_tensors.sort(key=lambda x: x['size_mb'], reverse=True)\n",
    "    \n",
    "    total_mb = sum(t['size_mb'] for t in gpu_tensors)\n",
    "    print(f\"Total tensors on GPU: {len(gpu_tensors)}\")\n",
    "    print(f\"Total memory used: {total_mb:.2f} MB\")\n",
    "    \n",
    "    for i, tensor in enumerate(gpu_tensors[:10]):  # Top 10\n",
    "        print(f\"{i+1}. Shape: {tensor['shape']}, \"\n",
    "              f\"Size: {tensor['size_mb']:.2f} MB, \"\n",
    "              f\"Type: {tensor['dtype']}\")\n",
    "\n",
    "get_gpu_tensors()"
   ]
  },
  {
   "cell_type": "code",
   "execution_count": null,
   "id": "072cca84-bddb-46eb-8ad0-4c41eb6a7d58",
   "metadata": {},
   "outputs": [],
   "source": []
  }
 ],
 "metadata": {
  "kernelspec": {
   "display_name": "My Virtual Environment",
   "language": "python",
   "name": "my_venv_name"
  },
  "language_info": {
   "codemirror_mode": {
    "name": "ipython",
    "version": 3
   },
   "file_extension": ".py",
   "mimetype": "text/x-python",
   "name": "python",
   "nbconvert_exporter": "python",
   "pygments_lexer": "ipython3",
   "version": "3.10.12"
  }
 },
 "nbformat": 4,
 "nbformat_minor": 5
}
